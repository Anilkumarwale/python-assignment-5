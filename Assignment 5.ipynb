{
 "cells": [
  {
   "cell_type": "markdown",
   "id": "65aed1fb",
   "metadata": {},
   "source": [
    "What does an empty dictionary's code look like?\n",
    "\n",
    "Answer: a = {}"
   ]
  },
  {
   "cell_type": "markdown",
   "id": "c8e48463",
   "metadata": {},
   "source": [
    "What is the value of a dictionary value with the key 'foo' and the value 42?\n",
    "\n",
    "Answer: dict = {'foo' : 42}, dict_values([42]).\n"
   ]
  },
  {
   "cell_type": "markdown",
   "id": "30563421",
   "metadata": {},
   "source": [
    "What is the most significant distinction between a dictionary and a list?\n",
    "\n",
    "Answer: Dictionary involves the data like keys and values but list is a sequence order of individual elements."
   ]
  },
  {
   "cell_type": "markdown",
   "id": "35b785a4",
   "metadata": {},
   "source": [
    "4. What happens if you try to access spam['foo'] if spam is {'bar': 100}?\n",
    "\n",
    "Answer: spam = {'bar': 100}\n",
    "        \n",
    "        spam['foo'] #key error "
   ]
  },
  {
   "cell_type": "markdown",
   "id": "541cd224",
   "metadata": {},
   "source": [
    "If a dictionary is stored in spam, what is the difference between the expressions 'cat' in spam and 'cat' in spam.keys()?\n",
    "\n",
    "Answer: Just try to check whether cat is present in a dictionary as a key or not."
   ]
  },
  {
   "cell_type": "markdown",
   "id": "52d8a952",
   "metadata": {},
   "source": [
    "If a dictionary is stored in spam, what is the difference between the expressions 'cat' in spam and 'cat' in spam.values()?\n",
    "\n",
    "Answer: its check whether cat is present in a dictionary as a value or not."
   ]
  },
  {
   "cell_type": "markdown",
   "id": "03478cc2",
   "metadata": {},
   "source": [
    "What is a shortcut for the following code?\n",
    "\n",
    "if 'color' not in spam:\n",
    "\n",
    "spam['color'] = 'black'\n",
    "\n",
    "Answer: spam.setdefault('colour', 'black')\n",
    "\n",
    "         'black'"
   ]
  },
  {
   "cell_type": "markdown",
   "id": "6f4dcc40",
   "metadata": {},
   "source": [
    "How do you \"pretty print\" dictionary values using which module and function?\n",
    "\n",
    "Answer: module = pprint\n",
    "    \n",
    "        function = pprint.pprint()\n"
   ]
  }
 ],
 "metadata": {
  "kernelspec": {
   "display_name": "Python 3 (ipykernel)",
   "language": "python",
   "name": "python3"
  },
  "language_info": {
   "codemirror_mode": {
    "name": "ipython",
    "version": 3
   },
   "file_extension": ".py",
   "mimetype": "text/x-python",
   "name": "python",
   "nbconvert_exporter": "python",
   "pygments_lexer": "ipython3",
   "version": "3.9.7"
  }
 },
 "nbformat": 4,
 "nbformat_minor": 5
}
